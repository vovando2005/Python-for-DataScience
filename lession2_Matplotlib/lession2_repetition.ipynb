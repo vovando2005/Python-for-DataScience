{
 "cells": [
  {
   "cell_type": "markdown",
   "id": "26c29f1a",
   "metadata": {},
   "source": [
    "1) Создать одномерный массив Numpy под названием a из 12 последовательных целых чисел чисел от 12 до 24 невключительно"
   ]
  },
  {
   "cell_type": "code",
   "execution_count": 1,
   "id": "8f9671e9",
   "metadata": {},
   "outputs": [],
   "source": [
    "import numpy as np\n",
    "import pandas as pd\n",
    "\n",
    "a = np.arange(12, 24)"
   ]
  },
  {
   "cell_type": "markdown",
   "id": "0b9da272",
   "metadata": {},
   "source": [
    "2) Создать 5 двумерных массивов разной формы из массива a. Не использовать в аргументах метода reshape число -1."
   ]
  },
  {
   "cell_type": "code",
   "execution_count": 8,
   "id": "2d69c3cc",
   "metadata": {},
   "outputs": [
    {
     "data": {
      "text/plain": [
       "array([[12, 13, 14, 15],\n",
       "       [16, 17, 18, 19],\n",
       "       [20, 21, 22, 23]])"
      ]
     },
     "execution_count": 8,
     "metadata": {},
     "output_type": "execute_result"
    }
   ],
   "source": [
    "a1 = a.reshape(3, 4)\n",
    "a2 = a.reshape(4, 3)\n",
    "a3 = a.reshape(6, 2)\n",
    "a4 = a.reshape(2, 6)\n",
    "a5 = a.reshape(12, 1)\n",
    "a1"
   ]
  },
  {
   "cell_type": "markdown",
   "id": "c913eac4",
   "metadata": {},
   "source": [
    "3) Создать 5 двумерных массивов разной формы из массива a. Использовать в аргументах метода reshape число -1 (в трех примерах - для обозначения числа столбцов, в двух - для строк)."
   ]
  },
  {
   "cell_type": "code",
   "execution_count": 7,
   "id": "6343a3c2",
   "metadata": {},
   "outputs": [
    {
     "data": {
      "text/plain": [
       "array([[12, 13],\n",
       "       [14, 15],\n",
       "       [16, 17],\n",
       "       [18, 19],\n",
       "       [20, 21],\n",
       "       [22, 23]])"
      ]
     },
     "execution_count": 7,
     "metadata": {},
     "output_type": "execute_result"
    }
   ],
   "source": [
    "a6 = a.reshape(3, -1)\n",
    "a7 = a.reshape(-1, 3)\n",
    "a8 = a.reshape(6, -1)\n",
    "a9 = a.reshape(-1, 6)\n",
    "a10 = a.reshape(12, -1)\n",
    "a8"
   ]
  },
  {
   "cell_type": "markdown",
   "id": "4b18e447",
   "metadata": {},
   "source": [
    "4) Можно ли массив Numpy, состоящий из одного столбца и 12 строк, назвать одномерным?\n",
    "\n",
    "Нет, это будет двумерный массив с 12 строками. Пример массив a5"
   ]
  },
  {
   "cell_type": "code",
   "execution_count": 10,
   "id": "61afe20c",
   "metadata": {},
   "outputs": [
    {
     "data": {
      "text/plain": [
       "2"
      ]
     },
     "execution_count": 10,
     "metadata": {},
     "output_type": "execute_result"
    }
   ],
   "source": [
    "a5.ndim"
   ]
  },
  {
   "cell_type": "markdown",
   "id": "38fd6946",
   "metadata": {},
   "source": [
    "5) Создать массив из 3 строк и 4 столбцов, состоящий из случайных чисел с плавающей запятой из нормального распределения со средним, равным 0 и среднеквадратичным отклонением, равным 1.0. Получить из этого массива одномерный массив с таким же атрибутом size, как и исходный массив."
   ]
  },
  {
   "cell_type": "code",
   "execution_count": 11,
   "id": "88baa747",
   "metadata": {},
   "outputs": [
    {
     "data": {
      "text/plain": [
       "array([-0.25788418,  0.27460581,  0.39643896, -0.80332327,  0.84495474,\n",
       "        1.39668449, -0.24023308,  0.14239434,  0.99135466,  0.0524036 ,\n",
       "       -0.61460359,  0.0165898 ])"
      ]
     },
     "execution_count": 11,
     "metadata": {},
     "output_type": "execute_result"
    }
   ],
   "source": [
    "b = np.random.randn(3, 4)\n",
    "b.flatten()"
   ]
  },
  {
   "cell_type": "markdown",
   "id": "662a3659",
   "metadata": {},
   "source": [
    "6) Создать массив a, состоящий из целых чисел, убывающих от 20 до 0 невключительно с интервалом 2."
   ]
  },
  {
   "cell_type": "code",
   "execution_count": 10,
   "id": "e0614a99",
   "metadata": {},
   "outputs": [
    {
     "data": {
      "text/plain": [
       "array([20, 18, 16, 14, 12, 10,  8,  6,  4,  2])"
      ]
     },
     "execution_count": 10,
     "metadata": {},
     "output_type": "execute_result"
    }
   ],
   "source": [
    "a = np.arange(20, 0 , -2)\n",
    "a"
   ]
  },
  {
   "cell_type": "markdown",
   "id": "6055f8e6",
   "metadata": {},
   "source": [
    "7) Создать массив b, состоящий из 1 строки и 10 столбцов: целых чисел, убывающих от 20 до 1 невключительно с интервалом 2. В чем разница между массивами a и b?\n",
    "\n",
    "Не вижу между ними разнцы"
   ]
  },
  {
   "cell_type": "code",
   "execution_count": 13,
   "id": "71d8ef7e",
   "metadata": {},
   "outputs": [
    {
     "data": {
      "text/plain": [
       "array([20, 18, 16, 14, 12, 10,  8,  6,  4,  2])"
      ]
     },
     "execution_count": 13,
     "metadata": {},
     "output_type": "execute_result"
    }
   ],
   "source": [
    "b = np.arange(20, 1, -2)\n",
    "b.reshape(1, 10)\n"
   ]
  },
  {
   "cell_type": "markdown",
   "id": "6135a703",
   "metadata": {},
   "source": [
    "8) Вертикально соединить массивы a и b. a - двумерный массив из нулей, число строк которого больше 1 и на 1 меньше, чем число строк двумерного массива b, состоящего из единиц. Итоговый массив v должен иметь атрибут size, равный 10."
   ]
  },
  {
   "cell_type": "code",
   "execution_count": 16,
   "id": "69ff8d7d",
   "metadata": {},
   "outputs": [
    {
     "data": {
      "text/plain": [
       "10"
      ]
     },
     "execution_count": 16,
     "metadata": {},
     "output_type": "execute_result"
    }
   ],
   "source": [
    "a = np.zeros((3, 2))\n",
    "b = np.ones((2, 2))\n",
    "v = np.vstack((a, b))\n",
    "v.size"
   ]
  },
  {
   "cell_type": "markdown",
   "id": "0ba06145",
   "metadata": {},
   "source": [
    "9) Создать одномерный массив а, состоящий из последовательности целых чисел от 0 до 12. Поменять форму этого массива, чтобы получилась матрица A (двумерный массив Numpy), состоящая из 4 строк и 3 столбцов. Получить матрицу At путем транспонирования матрицы A. Получить матрицу B, умножив матрицу A на матрицу At с помощью матричного умножения. \n",
    "Какой размер имеет матрица B? \n",
    "16 (4x4)\n",
    "Получится ли вычислить обратную матрицу для матрицы B и почему?\n",
    "Нет, потому что матрица квадратная и ее определитель равено 0"
   ]
  },
  {
   "cell_type": "code",
   "execution_count": 12,
   "id": "3f662335",
   "metadata": {},
   "outputs": [
    {
     "data": {
      "text/plain": [
       "0.0"
      ]
     },
     "execution_count": 12,
     "metadata": {},
     "output_type": "execute_result"
    }
   ],
   "source": [
    "a = np.arange(0, 12)\n",
    "A = a.reshape(4, 3)\n",
    "At = A.T\n",
    "B = np.matmul(A, At)\n",
    "B.size\n",
    "np.linalg.det(B)"
   ]
  },
  {
   "cell_type": "markdown",
   "id": "726186c8",
   "metadata": {},
   "source": [
    "10) Инициализируйте генератор случайных числе с помощью объекта seed, равного 42."
   ]
  },
  {
   "cell_type": "code",
   "execution_count": 18,
   "id": "fb9c78d6",
   "metadata": {},
   "outputs": [
    {
     "data": {
      "text/plain": [
       "array([0.37454012, 0.95071431, 0.73199394, 0.59865848, 0.15601864,\n",
       "       0.15599452, 0.05808361, 0.86617615, 0.60111501, 0.70807258])"
      ]
     },
     "execution_count": 18,
     "metadata": {},
     "output_type": "execute_result"
    }
   ],
   "source": [
    "np.random.seed(42)\n",
    "np.random.rand(10)"
   ]
  },
  {
   "cell_type": "markdown",
   "id": "bb0f4691",
   "metadata": {},
   "source": [
    "11) Создайте одномерный массив c, составленный из последовательности 16-ти случайных равномерно распределенных целых чисел от 0 до 16 невключительно. "
   ]
  },
  {
   "cell_type": "code",
   "execution_count": 29,
   "id": "6d0ae4cc",
   "metadata": {},
   "outputs": [
    {
     "data": {
      "text/plain": [
       "array([[ 2,  6,  4,  8,  6,  1,  3,  8, 11, 13,  1,  9,  8,  9,  4,  1]])"
      ]
     },
     "execution_count": 29,
     "metadata": {},
     "output_type": "execute_result"
    }
   ],
   "source": [
    "c = np.random.randint(0, 16, (1, 16))\n",
    "c"
   ]
  },
  {
   "cell_type": "markdown",
   "id": "1d6e2f45",
   "metadata": {},
   "source": [
    "12) Поменяйте его форму так, чтобы получилась квадратная матрица C. Получите матрицу D, поэлементно прибавив матрицу B из предыдущего вопроса к матрице C, умноженной на 10. Вычислите определитель, ранг и обратную матрицу D_inv для D."
   ]
  },
  {
   "cell_type": "code",
   "execution_count": 37,
   "id": "530ad6c7",
   "metadata": {},
   "outputs": [
    {
     "data": {
      "text/plain": [
       "array([[-0.04476419,  0.00300755,  0.01280542,  0.00172701],\n",
       "       [ 0.00654193, -0.0124515 ,  0.00479828,  0.00106867],\n",
       "       [-0.01213004, -0.00071191, -0.00745759,  0.01203385],\n",
       "       [ 0.02142138,  0.007956  , -0.00183375, -0.00786062]])"
      ]
     },
     "execution_count": 37,
     "metadata": {},
     "output_type": "execute_result"
    }
   ],
   "source": [
    "C = c.reshape(4, 4)\n",
    "D = B + C*10\n",
    "np.linalg.det(D) #определитель\n",
    "np.linalg.matrix_rank(D) #ранг\n",
    "D_inv = np.linalg.inv(D) #обратная матрица\n",
    "D_inv"
   ]
  },
  {
   "cell_type": "markdown",
   "id": "b2219182",
   "metadata": {},
   "source": [
    "13) Приравняйте к нулю отрицательные числа в матрице D_inv, а положительные - к единице. Убедитесь, что в матрице D_inv остались только нули и единицы. С помощью функции numpy.where, используя матрицу D_inv в качестве маски, а матрицы B и C - в качестве источников данных, получите матрицу E размером 4x4.  Элементы матрицы E, для которых соответствующий элемент матрицы D_inv равен 1, должны быть равны соответствующему элементу матрицы B, а элементы матрицы E, для которых соответствующий элемент матрицы D_inv равен 0, должны быть равны соответствующему элементу матрицы C."
   ]
  },
  {
   "cell_type": "code",
   "execution_count": 46,
   "id": "25b05aab",
   "metadata": {},
   "outputs": [
    {
     "name": "stdout",
     "output_type": "stream",
     "text": [
      "[[0. 1. 1. 1.]\n",
      " [1. 0. 1. 1.]\n",
      " [0. 0. 0. 1.]\n",
      " [1. 1. 0. 0.]]\n",
      "[[  5  14  23  32]\n",
      " [ 14  50  86 122]\n",
      " [ 23  86 149 212]\n",
      " [ 32 122 212 302]]\n",
      "[[ 2  6  4  8]\n",
      " [ 6  1  3  8]\n",
      " [11 13  1  9]\n",
      " [ 8  9  4  1]]\n",
      "[[  2  14  23  32]\n",
      " [ 14   1  86 122]\n",
      " [ 11  13   1 212]\n",
      " [ 32 122   4   1]]\n"
     ]
    }
   ],
   "source": [
    "for i in range(4):\n",
    "  for j in range(4):\n",
    "    if D_inv[i, j] > 0:\n",
    "        D_inv[i, j] = 1\n",
    "    else: D_inv[i, j] = 0\n",
    "print(D_inv)\n",
    "E = np.where(D_inv, B, C)\n",
    "print(B)\n",
    "print(C)\n",
    "print(E)"
   ]
  },
  {
   "cell_type": "code",
   "execution_count": null,
   "id": "1fc74746",
   "metadata": {},
   "outputs": [],
   "source": []
  }
 ],
 "metadata": {
  "kernelspec": {
   "display_name": "Python 3",
   "language": "python",
   "name": "python3"
  },
  "language_info": {
   "codemirror_mode": {
    "name": "ipython",
    "version": 3
   },
   "file_extension": ".py",
   "mimetype": "text/x-python",
   "name": "python",
   "nbconvert_exporter": "python",
   "pygments_lexer": "ipython3",
   "version": "3.8.8"
  }
 },
 "nbformat": 4,
 "nbformat_minor": 5
}
