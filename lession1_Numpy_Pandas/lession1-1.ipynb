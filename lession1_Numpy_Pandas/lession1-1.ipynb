{
 "cells": [
  {
   "cell_type": "markdown",
   "id": "0b70c678",
   "metadata": {},
   "source": [
    "1а) Создаем матрицу "
   ]
  },
  {
   "cell_type": "code",
   "execution_count": 5,
   "id": "5f0336e2",
   "metadata": {},
   "outputs": [
    {
     "data": {
      "text/plain": [
       "1"
      ]
     },
     "execution_count": 5,
     "metadata": {},
     "output_type": "execute_result"
    }
   ],
   "source": [
    "import numpy as np\n",
    "a = np.array([[1, 6],\n",
    "             [2, 8],\n",
    "             [3, 11],\n",
    "             [3, 10],\n",
    "             [1, 7]])"
   ]
  },
  {
   "cell_type": "markdown",
   "id": "821b21e2",
   "metadata": {},
   "source": [
    "1b) Считаем среднее по столбцам"
   ]
  },
  {
   "cell_type": "code",
   "execution_count": 6,
   "id": "f9612a4b",
   "metadata": {},
   "outputs": [
    {
     "data": {
      "text/plain": [
       "array([2. , 8.4])"
      ]
     },
     "execution_count": 6,
     "metadata": {},
     "output_type": "execute_result"
    }
   ],
   "source": [
    "mean_a = a.mean(axis=0)\n",
    "mean_a"
   ]
  },
  {
   "cell_type": "markdown",
   "id": "1854b258",
   "metadata": {},
   "source": [
    "2) Вычитаем среднее значение из соответсвующих столбцов используя коцепцию broadcasting"
   ]
  },
  {
   "cell_type": "code",
   "execution_count": 7,
   "id": "201e5bcd",
   "metadata": {},
   "outputs": [
    {
     "data": {
      "text/plain": [
       "array([[-1. , -2.4],\n",
       "       [ 0. , -0.4],\n",
       "       [ 1. ,  2.6],\n",
       "       [ 1. ,  1.6],\n",
       "       [-1. , -1.4]])"
      ]
     },
     "execution_count": 7,
     "metadata": {},
     "output_type": "execute_result"
    }
   ],
   "source": [
    "a_centered = a - mean_a\n",
    "a_centered"
   ]
  },
  {
   "cell_type": "markdown",
   "id": "6876160a",
   "metadata": {},
   "source": [
    "3) Находим скалярное произведение столбцов и вычисляем несмещенную ковариацию"
   ]
  },
  {
   "cell_type": "code",
   "execution_count": 26,
   "id": "2ca96380",
   "metadata": {},
   "outputs": [
    {
     "data": {
      "text/plain": [
       "array([ 2.4, -0. ,  2.6,  1.6,  1.4])"
      ]
     },
     "execution_count": 26,
     "metadata": {},
     "output_type": "execute_result"
    }
   ],
   "source": [
    "a_centered_sp = a_centered[:, 0] * a_centered[:, 1]\n",
    "a_centered_sp\n",
    "cov_1 = a_centered_sp.sum() / (a.shape[0] - 1) \n",
    "cov_1"
   ]
  },
  {
   "cell_type": "markdown",
   "id": "b67af26e",
   "metadata": {},
   "source": [
    "4) Проверяем полученное значение ковариации с помощью функции numpy np.cov"
   ]
  },
  {
   "cell_type": "code",
   "execution_count": 25,
   "id": "6f17a9b7",
   "metadata": {},
   "outputs": [
    {
     "data": {
      "text/plain": [
       "2.0"
      ]
     },
     "execution_count": 25,
     "metadata": {},
     "output_type": "execute_result"
    }
   ],
   "source": [
    "cov_2 = np.cov(a.T)[0, 1] \n",
    "cov_2"
   ]
  },
  {
   "cell_type": "code",
   "execution_count": null,
   "id": "2a1ed84a",
   "metadata": {},
   "outputs": [],
   "source": []
  }
 ],
 "metadata": {
  "kernelspec": {
   "display_name": "Python 3",
   "language": "python",
   "name": "python3"
  },
  "language_info": {
   "codemirror_mode": {
    "name": "ipython",
    "version": 3
   },
   "file_extension": ".py",
   "mimetype": "text/x-python",
   "name": "python",
   "nbconvert_exporter": "python",
   "pygments_lexer": "ipython3",
   "version": "3.8.8"
  }
 },
 "nbformat": 4,
 "nbformat_minor": 5
}
